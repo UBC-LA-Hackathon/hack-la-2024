{
 "cells": [
  {
   "cell_type": "code",
   "execution_count": 91,
   "metadata": {},
   "outputs": [
    {
     "name": "stderr",
     "output_type": "stream",
     "text": [
      "[nltk_data] Downloading package punkt_tab to\n",
      "[nltk_data]     C:\\Users\\alhus\\AppData\\Roaming\\nltk_data...\n",
      "[nltk_data]   Unzipping tokenizers\\punkt_tab.zip.\n"
     ]
    }
   ],
   "source": [
    "import json\n",
    "import pandas as pd\n",
    "from textblob import TextBlob\n",
    "import matplotlib.pyplot as plt\n",
    "import seaborn as sns\n",
    "import nltk\n",
    "import string\n",
    "\n",
    "nltk.download('punkt_tab')\n",
    "\n",
    "from sumy.parsers.plaintext import PlaintextParser\n",
    "from sumy.nlp.tokenizers import Tokenizer\n",
    "from sumy.summarizers.text_rank import TextRankSummarizer\n",
    "\n",
    "from sklearn.model_selection import train_test_split\n",
    "from sklearn import metrics\n",
    "from sklearn.preprocessing import StandardScaler\n",
    "from sklearn.model_selection import ShuffleSplit, GridSearchCV\n",
    "\n",
    "from sklearn.ensemble import RandomForestRegressor\n",
    "from sklearn.linear_model import Lasso, LinearRegression\n",
    "from sklearn.tree import DecisionTreeRegressor\n",
    "from pandas import json_normalize"
   ]
  },
  {
   "cell_type": "code",
   "execution_count": 92,
   "metadata": {},
   "outputs": [
    {
     "name": "stderr",
     "output_type": "stream",
     "text": [
      "[nltk_data] Downloading package punkt to\n",
      "[nltk_data]     C:\\Users\\alhus\\AppData\\Roaming\\nltk_data...\n",
      "[nltk_data]   Package punkt is already up-to-date!\n"
     ]
    },
    {
     "data": {
      "text/html": [
       "<div>\n",
       "<style scoped>\n",
       "    .dataframe tbody tr th:only-of-type {\n",
       "        vertical-align: middle;\n",
       "    }\n",
       "\n",
       "    .dataframe tbody tr th {\n",
       "        vertical-align: top;\n",
       "    }\n",
       "\n",
       "    .dataframe thead th {\n",
       "        text-align: right;\n",
       "    }\n",
       "</style>\n",
       "<table border=\"1\" class=\"dataframe\">\n",
       "  <thead>\n",
       "    <tr style=\"text-align: right;\">\n",
       "      <th></th>\n",
       "      <th>discussion_topic.id</th>\n",
       "      <th>discussion_topic.title</th>\n",
       "      <th>discussion_topic.message</th>\n",
       "      <th>discussion_topic.posted_at</th>\n",
       "      <th>discussion_topic.last_reply_at</th>\n",
       "      <th>discussion_topic.require_initial_post</th>\n",
       "      <th>discussion_topic.user_name</th>\n",
       "      <th>discussion_topic.user_id</th>\n",
       "      <th>discussion_topic.discussion_type</th>\n",
       "      <th>discussion_topic.allow_rating</th>\n",
       "      <th>discussion_topic.lock_at</th>\n",
       "      <th>discussion_topic.pinned</th>\n",
       "      <th>discussion_topic.replies</th>\n",
       "    </tr>\n",
       "  </thead>\n",
       "  <tbody>\n",
       "    <tr>\n",
       "      <th>0</th>\n",
       "      <td>1</td>\n",
       "      <td>The Purpose of Art</td>\n",
       "      <td>I believe Banksy's art is a powerful way to ad...</td>\n",
       "      <td>2024-10-17T12:00:00Z</td>\n",
       "      <td>2024-10-18T12:00:00Z</td>\n",
       "      <td>True</td>\n",
       "      <td>Ana Maria Lopez</td>\n",
       "      <td>3</td>\n",
       "      <td>threaded</td>\n",
       "      <td>False</td>\n",
       "      <td>None</td>\n",
       "      <td>False</td>\n",
       "      <td>[{'id': 101, 'parent_id': None, 'user_id': 8, ...</td>\n",
       "    </tr>\n",
       "    <tr>\n",
       "      <th>1</th>\n",
       "      <td>2</td>\n",
       "      <td>The Role of Women in Banksyâ€™s Art</td>\n",
       "      <td>How can Banksyâ€™s depictions of women in his ...</td>\n",
       "      <td>2024-10-17T12:00:00Z</td>\n",
       "      <td>2024-10-18T12:00:00Z</td>\n",
       "      <td>True</td>\n",
       "      <td>Fatima Al-Hassan</td>\n",
       "      <td>5</td>\n",
       "      <td>threaded</td>\n",
       "      <td>False</td>\n",
       "      <td>None</td>\n",
       "      <td>False</td>\n",
       "      <td>[{'id': 201, 'parent_id': None, 'user_id': 1, ...</td>\n",
       "    </tr>\n",
       "    <tr>\n",
       "      <th>2</th>\n",
       "      <td>3</td>\n",
       "      <td>In what ways can Banksyâ€™s approach to street...</td>\n",
       "      <td>How can Banksyâ€™s approach to street art fost...</td>\n",
       "      <td>2024-10-18T12:00:00Z</td>\n",
       "      <td>2024-10-19T12:00:00Z</td>\n",
       "      <td>True</td>\n",
       "      <td>Yuki Tanaka</td>\n",
       "      <td>4</td>\n",
       "      <td>threaded</td>\n",
       "      <td>False</td>\n",
       "      <td>None</td>\n",
       "      <td>False</td>\n",
       "      <td>[{'id': 301, 'parent_id': None, 'user_id': 4, ...</td>\n",
       "    </tr>\n",
       "  </tbody>\n",
       "</table>\n",
       "</div>"
      ],
      "text/plain": [
       "   discussion_topic.id                             discussion_topic.title  \\\n",
       "0                    1                                 The Purpose of Art   \n",
       "1                    2                The Role of Women in Banksyâ€™s Art   \n",
       "2                    3  In what ways can Banksyâ€™s approach to street...   \n",
       "\n",
       "                            discussion_topic.message  \\\n",
       "0  I believe Banksy's art is a powerful way to ad...   \n",
       "1  How can Banksyâ€™s depictions of women in his ...   \n",
       "2  How can Banksyâ€™s approach to street art fost...   \n",
       "\n",
       "  discussion_topic.posted_at discussion_topic.last_reply_at  \\\n",
       "0       2024-10-17T12:00:00Z           2024-10-18T12:00:00Z   \n",
       "1       2024-10-17T12:00:00Z           2024-10-18T12:00:00Z   \n",
       "2       2024-10-18T12:00:00Z           2024-10-19T12:00:00Z   \n",
       "\n",
       "   discussion_topic.require_initial_post discussion_topic.user_name  \\\n",
       "0                                   True            Ana Maria Lopez   \n",
       "1                                   True           Fatima Al-Hassan   \n",
       "2                                   True                Yuki Tanaka   \n",
       "\n",
       "   discussion_topic.user_id discussion_topic.discussion_type  \\\n",
       "0                         3                         threaded   \n",
       "1                         5                         threaded   \n",
       "2                         4                         threaded   \n",
       "\n",
       "   discussion_topic.allow_rating discussion_topic.lock_at  \\\n",
       "0                          False                     None   \n",
       "1                          False                     None   \n",
       "2                          False                     None   \n",
       "\n",
       "   discussion_topic.pinned                           discussion_topic.replies  \n",
       "0                    False  [{'id': 101, 'parent_id': None, 'user_id': 8, ...  \n",
       "1                    False  [{'id': 201, 'parent_id': None, 'user_id': 1, ...  \n",
       "2                    False  [{'id': 301, 'parent_id': None, 'user_id': 4, ...  "
      ]
     },
     "execution_count": 92,
     "metadata": {},
     "output_type": "execute_result"
    }
   ],
   "source": [
    "nltk.download('punkt')\n",
    "\n",
    "with open('hack-la-24-banksy-discussions.json', 'r') as file:\n",
    "    data = json.load(file)\n",
    "    \n",
    "\n",
    "df = json_normalize(data)\n",
    "df.head(5)"
   ]
  },
  {
   "cell_type": "code",
   "execution_count": 93,
   "metadata": {},
   "outputs": [
    {
     "data": {
      "text/plain": [
       "discussion_topic.id                       int64\n",
       "discussion_topic.title                   object\n",
       "discussion_topic.message                 object\n",
       "discussion_topic.posted_at               object\n",
       "discussion_topic.last_reply_at           object\n",
       "discussion_topic.require_initial_post      bool\n",
       "discussion_topic.user_name               object\n",
       "discussion_topic.user_id                  int64\n",
       "discussion_topic.discussion_type         object\n",
       "discussion_topic.allow_rating              bool\n",
       "discussion_topic.lock_at                 object\n",
       "discussion_topic.pinned                    bool\n",
       "discussion_topic.replies                 object\n",
       "dtype: object"
      ]
     },
     "execution_count": 93,
     "metadata": {},
     "output_type": "execute_result"
    }
   ],
   "source": [
    "df.dtypes"
   ]
  },
  {
   "cell_type": "code",
   "execution_count": 94,
   "metadata": {},
   "outputs": [
    {
     "data": {
      "text/plain": [
       "discussion_topic.id                      0\n",
       "discussion_topic.title                   0\n",
       "discussion_topic.message                 0\n",
       "discussion_topic.posted_at               0\n",
       "discussion_topic.last_reply_at           0\n",
       "discussion_topic.require_initial_post    0\n",
       "discussion_topic.user_name               0\n",
       "discussion_topic.user_id                 0\n",
       "discussion_topic.discussion_type         0\n",
       "discussion_topic.allow_rating            0\n",
       "discussion_topic.lock_at                 3\n",
       "discussion_topic.pinned                  0\n",
       "discussion_topic.replies                 0\n",
       "dtype: int64"
      ]
     },
     "execution_count": 94,
     "metadata": {},
     "output_type": "execute_result"
    }
   ],
   "source": [
    "df.isnull().sum()"
   ]
  },
  {
   "cell_type": "code",
   "execution_count": 95,
   "metadata": {},
   "outputs": [],
   "source": [
    "def preprocess_text(text):\n",
    "    text = text.lower()  # Convert to lowercase\n",
    "    text = text.translate(str.maketrans(\"\", \"\", string.punctuation))  # Remove punctuation\n",
    "    stop_words = set(nltk.corpus.stopwords.words('english'))\n",
    "    text = \" \".join(word for word in text.split() if word not in stop_words)  # Remove stopwords\n",
    "    return text"
   ]
  },
  {
   "cell_type": "code",
   "execution_count": 96,
   "metadata": {},
   "outputs": [],
   "source": [
    "df['cleaned_message'] = df['discussion_topic.message'].apply(preprocess_text)"
   ]
  },
  {
   "cell_type": "code",
   "execution_count": 97,
   "metadata": {},
   "outputs": [],
   "source": [
    "def get_sentiment(text):\n",
    "    return TextBlob(text).sentiment.polarity\n",
    "\n",
    "df['sentiment'] = df['cleaned_message'].apply(get_sentiment)\n",
    "\n",
    "df['sentiment_label'] = df['sentiment'].apply(lambda x: 'positive' if x > 0 else ('negative' if x < 0 else 'neutral'))\n"
   ]
  },
  {
   "cell_type": "code",
   "execution_count": 98,
   "metadata": {},
   "outputs": [
    {
     "data": {
      "image/png": "[encoded data removed]",
      "text/plain": [
       "<Figure size 800x500 with 1 Axes>"
      ]
     },
     "metadata": {},
     "output_type": "display_data"
    },
    {
     "name": "stdout",
     "output_type": "stream",
     "text": [
      "discussion_topic.discussion_type\n",
      "threaded    0.083333\n",
      "Name: sentiment, dtype: float64\n"
     ]
    }
   ],
   "source": [
    "plt.figure(figsize=(8, 5))\n",
    "sns.countplot(df['sentiment_label'])\n",
    "plt.title('Sentiment Distribution')\n",
    "plt.xlabel('Sentiment')\n",
    "plt.ylabel('Count')\n",
    "plt.show()\n",
    "\n",
    "# Optional: Analyze average sentiment by discussion type\n",
    "average_sentiment = df.groupby('discussion_topic.discussion_type')['sentiment'].mean()\n",
    "print(average_sentiment)"
   ]
  },
  {
   "cell_type": "code",
   "execution_count": 99,
   "metadata": {},
   "outputs": [
    {
     "name": "stdout",
     "output_type": "stream",
     "text": [
      "{'discussion_topic': {'id': 1, 'title': 'The Purpose of Art', 'message': \"I believe Banksy's art is a powerful way to advocate for marginalized voices. We can use it to address local immigration issues, just like he does. Street art should be a platform for activism.\", 'posted_at': '2024-10-17T12:00:00Z', 'last_reply_at': '2024-10-18T12:00:00Z', 'require_initial_post': True, 'user_name': 'Ana Maria Lopez', 'user_id': 3, 'discussion_type': 'threaded', 'allow_rating': False, 'lock_at': None, 'pinned': False, 'replies': [{'id': 101, 'parent_id': None, 'user_id': 8, 'user_name': 'Maximilian Schmidt', 'message': 'While I see your point, I think Banksyâ€™s work is often more about provoking thought than providing solutions. He uses satire to challenge societal norms, but that doesnâ€™t always translate into actionable change. It can be seen as merely performative.', 'created_at': '2024-10-17T13:00:00Z', 'updated_at': None, 'deleted': False, 'rating': None}, {'id': 102, 'parent_id': 101, 'user_id': 3, 'user_name': 'Ana Maria Lopez', 'message': \"But isnâ€™t it performative action that gets people talking? We need to engage the community through discussions sparked by our art, even if it's not a direct solution.\", 'created_at': '2024-10-17T14:00:00Z', 'updated_at': None, 'deleted': False, 'rating': None}, {'id': 103, 'parent_id': 102, 'user_id': 8, 'user_name': 'Maximilian Schmidt', 'message': 'Iâ€™m concerned about the risks of public engagement. Street art can be seen as vandalism, and if we align ourselves with controversial themes, it could backfire and lead to negative consequences for our careers as artists.', 'created_at': '2024-10-17T15:00:00Z', 'updated_at': None, 'deleted': False, 'rating': None}, {'id': 104, 'parent_id': 103, 'user_id': 3, 'user_name': 'Ana Maria Lopez', 'message': 'Thatâ€™s a valid concern, but history shows that the most impactful art often comes from a place of risk. Banksy took that risk, and itâ€™s paid off. If we want to create real dialogue, we must be willing to stand behind our beliefs, even if it means facing backlash.', 'created_at': '2024-10-17T16:00:00Z', 'updated_at': None, 'deleted': False, 'rating': None}, {'id': 105, 'parent_id': 104, 'user_id': 8, 'user_name': 'Maximilian Schmidt', 'message': 'But does that mean we should intentionally provoke outrage? I believe there are ways to engage the community without putting ourselves in jeopardy.', 'created_at': '2024-10-17T17:00:00Z', 'updated_at': None, 'deleted': False, 'rating': None}, {'id': 106, 'parent_id': 105, 'user_id': 3, 'user_name': 'Ana Maria Lopez', 'message': 'We need to address local issues like immigration and identity through our art. Thatâ€™s where we can make a significant impact.', 'created_at': '2024-10-17T18:00:00Z', 'updated_at': None, 'deleted': False, 'rating': None}, {'id': 107, 'parent_id': 106, 'user_id': 8, 'user_name': 'Maximilian Schmidt', 'message': 'While those are important, I think we need to consider a broader spectrum of local issues, including socioeconomic factors or environmental concerns. Focusing solely on immigration may alienate other groups in our community.', 'created_at': '2024-10-17T19:00:00Z', 'updated_at': None, 'deleted': False, 'rating': None}, {'id': 108, 'parent_id': 107, 'user_id': 3, 'user_name': 'Ana Maria Lopez', 'message': 'I donâ€™t think highlighting specific issues is alienating. Itâ€™s about giving a voice to those who often go unheard. We can tackle multiple issues, but we must prioritize those most pressing in our community.', 'created_at': '2024-10-17T20:00:00Z', 'updated_at': None, 'deleted': False, 'rating': None}, {'id': 109, 'parent_id': None, 'user_id': 8, 'user_name': 'Maximilian Schmidt', 'message': 'I feel that while we can use street art for activism, we also have a responsibility to respect the communityâ€™s needs. Our art should reflect what the community wants, not just our own perspectives.', 'created_at': '2024-10-17T21:00:00Z', 'updated_at': None, 'deleted': False, 'rating': None}, {'id': 110, 'parent_id': 109, 'user_id': 3, 'user_name': 'Ana Maria Lopez', 'message': 'I disagree. Sometimes, the community doesnâ€™t know what it needs until it sees it represented in art. Banksyâ€™s work challenges the status quo; we should do the same and lead the conversation.', 'created_at': '2024-10-17T22:00:00Z', 'updated_at': None, 'deleted': False, 'rating': None}, {'id': 111, 'parent_id': 110, 'user_id': 8, 'user_name': 'Maximilian Schmidt', 'message': 'But art can also reinforce harmful stereotypes if it isnâ€™t handled thoughtfully. We need to be mindful of how our messages are received, not just what we want to express.', 'created_at': '2024-10-17T23:00:00Z', 'updated_at': None, 'deleted': False, 'rating': None}, {'id': 112, 'parent_id': 111, 'user_id': 3, 'user_name': 'Ana Maria Lopez', 'message': 'For me, success in using street art for activism is about creating a buzz and starting conversations. If we can engage the community in discussions about important issues, thatâ€™s a win.', 'created_at': '2024-10-18T00:00:00Z', 'updated_at': None, 'deleted': False, 'rating': None}, {'id': 113, 'parent_id': 112, 'user_id': 8, 'user_name': 'Maximilian Schmidt', 'message': 'I think success should be measured by tangible outcomes. If weâ€™re not seeing changes or actions taken in response to our art, then whatâ€™s the point? We need to focus on results, not just awareness.', 'created_at': '2024-10-18T01:00:00Z', 'updated_at': None, 'deleted': False, 'rating': None}, {'id': 114, 'parent_id': 113, 'user_id': 3, 'user_name': 'Ana Maria Lopez', 'message': \"But awareness is the first step! If our art can make people think and talk about issues, thatâ€™s crucial. Change takes time; we can't expect immediate results.\", 'created_at': '2024-10-18T02:00:00Z', 'updated_at': None, 'deleted': False, 'rating': None}]}}\n",
      "{'discussion_topic': {'id': 2, 'title': 'The Role of Women in Banksyâ€™s Art', 'message': 'How can Banksyâ€™s depictions of women in his art challenge cultural norms and stereotypes, and what can we learn from these representations for our own work?', 'posted_at': '2024-10-17T12:00:00Z', 'last_reply_at': '2024-10-18T12:00:00Z', 'require_initial_post': True, 'user_name': 'Fatima Al-Hassan', 'user_id': 5, 'discussion_type': 'threaded', 'allow_rating': False, 'lock_at': None, 'pinned': False, 'replies': [{'id': 201, 'parent_id': None, 'user_id': 1, 'user_name': 'Lila Patel', 'message': 'I think Banksyâ€™s portrayal of women is really powerful. For instance, his piece with the little girl holding a balloon shows vulnerability, but it also suggests hope. It challenges the stereotype of women being helpless.', 'created_at': '2024-10-17T13:00:00Z', 'updated_at': None, 'deleted': False, 'rating': None}, {'id': 202, 'parent_id': 201, 'user_id': 4, 'user_name': 'Yuki Tanaka', 'message': \"I agree, Lila. I also see how Banksy uses irony in his work. For example, his depiction of a woman as a powerful figure, like in 'Girl with a Balloon,' subverts traditional roles. It encourages us to rethink how women are represented in art.\", 'created_at': '2024-10-17T14:00:00Z', 'updated_at': None, 'deleted': False, 'rating': None}, {'id': 203, 'parent_id': 202, 'user_id': 2, 'user_name': 'Jamal Thompson', 'message': 'While I appreciate your points, I feel that Banksy sometimes uses women merely as symbols. Are we really challenging cultural norms if we donâ€™t go deeper into their stories and struggles? His art can risk oversimplifying complex issues.', 'created_at': '2024-10-17T15:00:00Z', 'updated_at': None, 'deleted': False, 'rating': None}, {'id': 204, 'parent_id': 203, 'user_id': 9, 'user_name': 'Sofia Ribeiro', 'message': 'Thatâ€™s an important critique, Jamal. I think we should also examine how these representations resonate with audiences. Banksyâ€™s art invites conversations, which can lead to a broader understanding of womenâ€™s experiences. How can we use this approach in our own work to amplify these voices?', 'created_at': '2024-10-17T16:00:00Z', 'updated_at': None, 'deleted': False, 'rating': None}, {'id': 205, 'parent_id': 202, 'user_id': 1, 'user_name': 'Lila Patel', 'message': 'Exactly! Itâ€™s about starting dialogues. If we create art that reflects the complexities of womenâ€™s lives, we can honor those narratives. Maybe we can incorporate storytelling elements into our pieces to give depth to our representations.', 'created_at': '2024-10-17T17:00:00Z', 'updated_at': None, 'deleted': False, 'rating': None}, {'id': 206, 'parent_id': 205, 'user_id': 4, 'user_name': 'Yuki Tanaka', 'message': 'That sounds great! We could also explore different mediums, like incorporating digital elements or interactive installations that allow audiences to engage with the stories behind our artworks.', 'created_at': '2024-10-17T18:00:00Z', 'updated_at': None, 'deleted': False, 'rating': None}, {'id': 207, 'parent_id': 206, 'user_id': 2, 'user_name': 'Jamal Thompson', 'message': 'I like that idea, but we should be careful not to tokenize women in our art. Itâ€™s essential that we involve women from diverse backgrounds in the creative process. Their perspectives can help ensure that our work is authentic and respectful.', 'created_at': '2024-10-17T19:00:00Z', 'updated_at': None, 'deleted': False, 'rating': None}, {'id': 208, 'parent_id': 207, 'user_id': 9, 'user_name': 'Sofia Ribeiro', 'message': 'Absolutely, Jamal. Collaboration is key. We should aim to create art that reflects lived experiences rather than just our interpretations of those experiences. How can we actively engage with these communities as we develop our projects?', 'created_at': '2024-10-17T20:00:00Z', 'updated_at': None, 'deleted': False, 'rating': None}, {'id': 209, 'parent_id': 208, 'user_id': 1, 'user_name': 'Lila Patel', 'message': 'One way could be to host community workshops or discussions where we invite women to share their stories. We could use their input to guide our artistic decisions and ensure their voices are central in our work.', 'created_at': '2024-10-17T21:00:00Z', 'updated_at': None, 'deleted': False, 'rating': None}, {'id': 210, 'parent_id': 209, 'user_id': 4, 'user_name': 'Yuki Tanaka', 'message': 'Thatâ€™s a fantastic idea! Engaging directly with the community would not only enrich our art but also create a sense of ownership among those whose stories we want to tell.', 'created_at': '2024-10-17T22:00:00Z', 'updated_at': None, 'deleted': False, 'rating': None}, {'id': 211, 'parent_id': 210, 'user_id': 2, 'user_name': 'Jamal Thompson', 'message': 'And it can challenge the very norms weâ€™re discussing! By giving space to real voices, we can contribute to changing the narrative around women in our communities.', 'created_at': '2024-10-17T23:00:00Z', 'updated_at': None, 'deleted': False, 'rating': None}, {'id': 212, 'parent_id': 211, 'user_id': 9, 'user_name': 'Sofia Ribeiro', 'message': 'This is such an inspiring conversation! Itâ€™s crucial that we remain aware of the power dynamics in our art and strive for inclusivity and authenticity in our representations.', 'created_at': '2024-10-18T00:00:00Z', 'updated_at': None, 'deleted': False, 'rating': None}, {'id': 213, 'parent_id': 212, 'user_id': 1, 'user_name': 'Lila Patel', 'message': 'Definitely! Iâ€™m excited to see how we can bring these ideas into our projects and honor the narratives of women through our art.', 'created_at': '2024-10-18T01:00:00Z', 'updated_at': None, 'deleted': False, 'rating': None}]}}\n",
      "{'discussion_topic': {'id': 3, 'title': 'In what ways can Banksyâ€™s approach to street art foster community engagement and dialogue, and what are the potential drawbacks of using this medium?', 'message': 'How can Banksyâ€™s approach to street art foster community engagement and dialogue, and what are the potential drawbacks of using this medium?', 'posted_at': '2024-10-18T12:00:00Z', 'last_reply_at': '2024-10-19T12:00:00Z', 'require_initial_post': True, 'user_name': 'Yuki Tanaka', 'user_id': 4, 'discussion_type': 'threaded', 'allow_rating': False, 'lock_at': None, 'pinned': False, 'replies': [{'id': 301, 'parent_id': None, 'user_id': 4, 'user_name': 'Yuki Tanaka', 'message': 'I think Banksyâ€™s work really engages the community by addressing social issues in a way that is accessible. Street art can break down barriers and invite discussions. What do you all think?', 'created_at': '2024-10-18T13:00:00Z', 'updated_at': None, 'deleted': False, 'rating': None}, {'id': 302, 'parent_id': 301, 'user_id': 3, 'user_name': 'Ana Maria Lopez', 'message': 'I agree that street art can foster dialogue, but we have to consider how effective it really is. People might enjoy the art but not engage with the underlying messages.', 'created_at': '2024-10-18T14:00:00Z', 'updated_at': None, 'deleted': False, 'rating': None}, {'id': 303, 'parent_id': 301, 'user_id': 2, 'user_name': 'Jamal Thompson', 'message': 'Exactly! Just because something looks good doesnâ€™t mean itâ€™s sparking real conversations. We have to think about how to ensure our art isnâ€™t just visually appealing but also thought-provoking.', 'created_at': '2024-10-18T15:00:00Z', 'updated_at': None, 'deleted': False, 'rating': None}, {'id': 304, 'parent_id': 301, 'user_id': 4, 'user_name': 'Yuki Tanaka', 'message': 'But isnâ€™t the visual appeal part of what draws people in? If we can get them to look at the art, we have a chance to get them thinking about the issues it represents.', 'created_at': '2024-10-18T16:00:00Z', 'updated_at': None, 'deleted': False, 'rating': None}, {'id': 305, 'parent_id': 304, 'user_id': 3, 'user_name': 'Ana Maria Lopez', 'message': 'True, but if people walk away only impressed by the aesthetics without understanding the message, have we really achieved our goal?', 'created_at': '2024-10-18T17:00:00Z', 'updated_at': None, 'deleted': False, 'rating': None}, {'id': 306, 'parent_id': None, 'user_id': 4, 'user_name': 'Yuki Tanaka', 'message': \"Banksyâ€™s art is often provocative, which is part of what makes it powerful. It can challenge viewers' assumptions and spark important conversations.\", 'created_at': '2024-10-18T18:00:00Z', 'updated_at': None, 'deleted': False, 'rating': None}, {'id': 307, 'parent_id': 306, 'user_id': 8, 'user_name': 'Maximilian Schmidt', 'message': 'I see your point, but provoking thought can also lead to misinterpretation. If the message isnâ€™t clear, people may take away completely different meanings, which could dilute the intended impact.', 'created_at': '2024-10-18T19:00:00Z', 'updated_at': None, 'deleted': False, 'rating': None}, {'id': 308, 'parent_id': 307, 'user_id': 9, 'user_name': 'Sofia Ribeiro', 'message': 'Thatâ€™s a valid concern, Maximilian. However, isnâ€™t it also important to allow space for individual interpretation? Art can mean different things to different people, and thatâ€™s part of its beauty.', 'created_at': '2024-10-18T20:00:00Z', 'updated_at': None, 'deleted': False, 'rating': None}, {'id': 309, 'parent_id': 306, 'user_id': 4, 'user_name': 'Yuki Tanaka', 'message': 'I think thereâ€™s a balance to strike. We want to provoke thought but also guide people towards the intended message. Maybe we can incorporate text or explanations alongside our art to clarify our points.', 'created_at': '2024-10-18T21:00:00Z', 'updated_at': None, 'deleted': False, 'rating': None}, {'id': 310, 'parent_id': 309, 'user_id': 8, 'user_name': 'Maximilian Schmidt', 'message': 'That might help, but we should also be cautious not to over-explain. If we do, it could take away from the power of the artwork itself.', 'created_at': '2024-10-18T22:00:00Z', 'updated_at': None, 'deleted': False, 'rating': None}, {'id': 311, 'parent_id': None, 'user_id': 4, 'user_name': 'Yuki Tanaka', 'message': 'Engaging with the community can enhance our work. By getting feedback from local residents, we can make sure our art resonates with them and addresses their concerns.', 'created_at': '2024-10-18T23:00:00Z', 'updated_at': None, 'deleted': False, 'rating': None}, {'id': 312, 'parent_id': 311, 'user_id': 5, 'user_name': 'Fatima Al-Hassan', 'message': 'I think involving the community is crucial, but we need to be careful about how we frame our questions. If we only ask leading questions, we might not get honest feedback.', 'created_at': '2024-10-19T00:00:00Z', 'updated_at': None, 'deleted': False, 'rating': None}, {'id': 313, 'parent_id': 312, 'user_id': 2, 'user_name': 'Jamal Thompson', 'message': 'Thatâ€™s a great point, Fatima. We need to create a space where community members feel safe to express their true feelings, even if it contradicts our vision.', 'created_at': '2024-10-19T01:00:00Z', 'updated_at': None, 'deleted': False, 'rating': None}, {'id': 314, 'parent_id': 312, 'user_id': 4, 'user_name': 'Yuki Tanaka', 'message': 'I understand that, but isnâ€™t there a risk that we might end up compromising our artistic vision? If we cater too much to community input, we could lose the essence of what we wanted to express.', 'created_at': '2024-10-19T02:00:00Z', 'updated_at': None, 'deleted': False, 'rating': None}, {'id': 315, 'parent_id': 311, 'user_id': 5, 'user_name': 'Fatima Al-Hassan', 'message': 'But isnâ€™t it our responsibility as artists to reflect the communityâ€™s voice? If we ignore their perspectives, we risk creating art thatâ€™s disconnected from the very people itâ€™s meant to engage.', 'created_at': '2024-10-19T03:00:00Z', 'updated_at': None, 'deleted': False, 'rating': None}]}}\n"
     ]
    }
   ],
   "source": [
    "if isinstance(data, list):\n",
    "    for item in data:\n",
    "        print(item)  \n",
    "elif isinstance(data, dict):\n",
    "    print(data['key']) "
   ]
  },
  {
   "cell_type": "code",
   "execution_count": 100,
   "metadata": {},
   "outputs": [],
   "source": [
    "try:\n",
    "    with open('hack-la-24-banksy-discussions.json', 'r') as file:\n",
    "        data = json.load(file)\n",
    "except FileNotFoundError:\n",
    "    print(\"The file was not found.\")\n",
    "except json.JSONDecodeError:\n",
    "    print(\"Error decoding JSON.\")"
   ]
  },
  {
   "cell_type": "code",
   "execution_count": null,
   "metadata": {},
   "outputs": [],
   "source": []
  },
  {
   "cell_type": "markdown",
   "metadata": {},
   "source": []
  },
  {
   "cell_type": "code",
   "execution_count": 101,
   "metadata": {},
   "outputs": [],
   "source": [
    "def preprocess_text(text):\n",
    "    text = text.lower() \n",
    "    text = text.translate(str.maketrans(\"\", \"\", string.punctuation)) \n",
    "    return text\n",
    "\n",
    "df['cleaned_message'] = df['discussion_topic.message'].apply(preprocess_text)"
   ]
  },
  {
   "cell_type": "code",
   "execution_count": 102,
   "metadata": {},
   "outputs": [],
   "source": [
    "def summarize_text(text):\n",
    "    parser = PlaintextParser.from_string(text, Tokenizer('english'))\n",
    "    summarizer = TextRankSummarizer()\n",
    "    summary = summarizer(parser.document, 2)  # Summarize to 2 sentences\n",
    "    return ' '.join(str(sentence) for sentence in summary)\n",
    "\n",
    "# Apply summarization\n",
    "df['summary'] = df['cleaned_message'].apply(summarize_text)"
   ]
  },
  {
   "cell_type": "code",
   "execution_count": 103,
   "metadata": {},
   "outputs": [
    {
     "name": "stdout",
     "output_type": "stream",
     "text": [
      "Original Message: I believe Banksy's art is a powerful way to advocate for marginalized voices. We can use it to address local immigration issues, just like he does. Street art should be a platform for activism.\n",
      "Summary: i believe banksys art is a powerful way to advocate for marginalized voices we can use it to address local immigration issues just like he does street art should be a platform for activism\n",
      "========================================\n",
      "Original Message: How can Banksyâ€™s depictions of women in his art challenge cultural norms and stereotypes, and what can we learn from these representations for our own work?\n",
      "Summary: how can banksyâ€™s depictions of women in his art challenge cultural norms and stereotypes and what can we learn from these representations for our own work\n",
      "========================================\n",
      "Original Message: How can Banksyâ€™s approach to street art foster community engagement and dialogue, and what are the potential drawbacks of using this medium?\n",
      "Summary: how can banksyâ€™s approach to street art foster community engagement and dialogue and what are the potential drawbacks of using this medium\n",
      "========================================\n"
     ]
    }
   ],
   "source": [
    "for index, row in df.iterrows():\n",
    "    print(f\"Original Message: {row['discussion_topic.message']}\")\n",
    "    print(f\"Summary: {row['summary']}\")\n",
    "    print(\"=\"*40)"
   ]
  }
 ],
 "metadata": {
  "kernelspec": {
   "display_name": "Python 3",
   "language": "python",
   "name": "python3"
  },
  "language_info": {
   "codemirror_mode": {
    "name": "ipython",
    "version": 3
   },
   "file_extension": ".py",
   "mimetype": "text/x-python",
   "name": "python",
   "nbconvert_exporter": "python",
   "pygments_lexer": "ipython3",
   "version": "3.11.9"
  }
 },
 "nbformat": 4,
 "nbformat_minor": 2
}
